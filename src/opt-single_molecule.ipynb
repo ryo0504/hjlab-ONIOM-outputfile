{
 "cells": [
  {
   "cell_type": "code",
   "execution_count": 13,
   "id": "24199909-a254-4a00-8069-c9b4d7c922dc",
   "metadata": {},
   "outputs": [],
   "source": [
    "import codecs\n",
    "import glob\n",
    "import pandas as pd\n"
   ]
  },
  {
   "cell_type": "code",
   "execution_count": 14,
   "id": "9e0d0c72-adea-4fce-adf6-a2d9eac347fd",
   "metadata": {},
   "outputs": [],
   "source": [
    "data_dir = \"data/input/test/*.out\"\n",
    "data_names = data_dir.split('/')[2:-1]\n",
    "data_name = \"\"\n",
    "for p in data_names:\n",
    "    data_name = data_name + p\n",
    "result_dir = \"data/output/\" + data_name + \".csv\"\n",
    "paths = [p for p in glob.glob(data_dir)]\n",
    "cvd_key = \"Threshold  Converged?\"\n",
    "SCF_done_key = \"SCF Done\"\n",
    "energy_list = []\n",
    "not_cvd_list = []\n",
    "cvd_list = []\n",
    "df_output = pd.DataFrame()"
   ]
  },
  {
   "cell_type": "code",
   "execution_count": 15,
   "id": "3dcd92fe-a159-4c81-ac40-588f47fff410",
   "metadata": {},
   "outputs": [
    {
     "data": {
      "text/html": [
       "<div>\n",
       "<style scoped>\n",
       "    .dataframe tbody tr th:only-of-type {\n",
       "        vertical-align: middle;\n",
       "    }\n",
       "\n",
       "    .dataframe tbody tr th {\n",
       "        vertical-align: top;\n",
       "    }\n",
       "\n",
       "    .dataframe thead th {\n",
       "        text-align: right;\n",
       "    }\n",
       "</style>\n",
       "<table border=\"1\" class=\"dataframe\">\n",
       "  <thead>\n",
       "    <tr style=\"text-align: right;\">\n",
       "      <th></th>\n",
       "      <th>SCF done</th>\n",
       "    </tr>\n",
       "  </thead>\n",
       "  <tbody>\n",
       "    <tr>\n",
       "      <th>0</th>\n",
       "      <td>-1.012728e+03</td>\n",
       "    </tr>\n",
       "    <tr>\n",
       "      <th>2</th>\n",
       "      <td>-1.012000e+11</td>\n",
       "    </tr>\n",
       "  </tbody>\n",
       "</table>\n",
       "</div>"
      ],
      "text/plain": [
       "       SCF done\n",
       "0 -1.012728e+03\n",
       "2 -1.012000e+11"
      ]
     },
     "execution_count": 15,
     "metadata": {},
     "output_type": "execute_result"
    }
   ],
   "source": [
    "for path in paths:\n",
    "    # file_nameから角度の情報を取る\n",
    "    file_name = path.split('/')[-1]\n",
    "    torsion_angle = int(file_name.split(\"@\")[0].split(\"_\")[-1])\n",
    "    with codecs.open(path, \"r\", \"UTF-8\", \"ignore\") as file:\n",
    "        df = pd.read_table(file)\n",
    "        df = df.rename(columns={df.columns[0]: 'Col_1'})\n",
    "        \n",
    "#         converged: YESを探す\n",
    "        cvd_key_df = df[df['Col_1'].str.contains(cvd_key, case=False)]\n",
    "        idx_list = list(cvd_key_df.index)\n",
    "        for idx in idx_list:\n",
    "            if list(df.iloc[idx+1:idx+5]['Col_1'].str.contains(\"YES\", case=False)) == [True, True, True, True]:\n",
    "                df_tgt = df[idx_list[idx_list.index(idx)-1]:idx]\n",
    "                energy = float(df_tgt[df_tgt['Col_1'].str.contains(\"SCF Done\")].iloc[0][0].split('=')[-1].split(\"A.U.\")[0].replace(\" \",\"\"))\n",
    "                df_E = pd.DataFrame(data=[energy], \n",
    "                            columns=[torsion_angle],\n",
    "                            index=[\"SCF done\"]).T\n",
    "                df_output = pd.concat([df_output, df_E])\n",
    "                cvd_list.append(torsion_angle)\n",
    "            \n",
    "\n",
    "df_output = df_output.sort_index()\n",
    "df_output.to_csv(result_dir)\n",
    "df_output"
   ]
  }
 ],
 "metadata": {
  "kernelspec": {
   "display_name": "Python 3",
   "language": "python",
   "name": "python3"
  },
  "language_info": {
   "codemirror_mode": {
    "name": "ipython",
    "version": 3
   },
   "file_extension": ".py",
   "mimetype": "text/x-python",
   "name": "python",
   "nbconvert_exporter": "python",
   "pygments_lexer": "ipython3",
   "version": "3.8.8"
  }
 },
 "nbformat": 4,
 "nbformat_minor": 5
}
