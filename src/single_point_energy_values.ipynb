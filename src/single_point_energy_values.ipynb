{
 "cells": [
  {
   "cell_type": "code",
   "execution_count": 1,
   "id": "5a549cfe-be2f-447c-814b-479536e6923d",
   "metadata": {},
   "outputs": [],
   "source": [
    "import codecs\n",
    "import glob\n",
    "import pandas as pd\n",
    "import matplotlib.pyplot as plt\n",
    "from matplotlib import cm"
   ]
  },
  {
   "cell_type": "code",
   "execution_count": 2,
   "id": "b1ace65b-c1ad-43bc-b0a9-45abaa901e82",
   "metadata": {},
   "outputs": [],
   "source": [
    "data_dir = \"data/input/iso/NH/S1/*.out\"\n",
    "result_dir = data_dir.replace(\"*.out\", \"\")\n",
    "paths = [p for p in glob.glob(data_dir)]\n",
    "SCF_done_key = \"SCF Done\"\n",
    "Total_energy_key = \"Total Energy, E\"\n",
    "energy_list = []\n",
    "df_output = pd.DataFrame()"
   ]
  },
  {
   "cell_type": "code",
   "execution_count": 3,
   "id": "311a4edb-22a4-4ba5-b25a-a62f9429e03a",
   "metadata": {},
   "outputs": [],
   "source": [
    "for path in paths:\n",
    "    # file_nameから角度の情報を取る\n",
    "    file_name = path.split('/')[-1]\n",
    "    torsion_angle = int(file_name.split(\"@\")[0].split(\"_\")[-1])\n",
    "    with codecs.open(path, \"r\", \"UTF-8\", \"ignore\") as file:\n",
    "        df = pd.read_table(file)\n",
    "        df = df.rename(columns={df.columns[0]: 'Col_1'})\n",
    "        \n",
    "        SCF_done_energy = float([a for a in df[df['Col_1'].str.contains(SCF_done_key)]['Col_1'].iloc[-1].split(' ') if a != ''][4])\n",
    "        Total_energy = float([a for a in df[df['Col_1'].str.contains(Total_energy_key)]['Col_1'].iloc[-1].split(' ') if a != ''][4])\n",
    "        df_E = pd.DataFrame(data=[SCF_done_energy, Total_energy], \n",
    "                            columns=[torsion_angle],\n",
    "                            index=[\"SCF_done_energy\", \"Total Energy\"]).T\n",
    "        df_output = pd.concat([df_output, df_E])\n",
    "\n",
    "df_output = df_output.sort_index()\n",
    "df_output.to_csv(result_dir + \"result.csv\")\n",
    "\n",
    "        "
   ]
  },
  {
   "cell_type": "code",
   "execution_count": null,
   "id": "4dfd4570-0a0b-49b7-8438-e12e44817058",
   "metadata": {},
   "outputs": [],
   "source": []
  }
 ],
 "metadata": {
  "kernelspec": {
   "display_name": "Python 3",
   "language": "python",
   "name": "python3"
  },
  "language_info": {
   "codemirror_mode": {
    "name": "ipython",
    "version": 3
   },
   "file_extension": ".py",
   "mimetype": "text/x-python",
   "name": "python",
   "nbconvert_exporter": "python",
   "pygments_lexer": "ipython3",
   "version": "3.8.8"
  }
 },
 "nbformat": 4,
 "nbformat_minor": 5
}
